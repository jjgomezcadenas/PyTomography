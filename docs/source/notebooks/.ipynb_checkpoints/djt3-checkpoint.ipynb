{
 "cells": [
  {
   "cell_type": "code",
   "execution_count": 1,
   "metadata": {},
   "outputs": [],
   "source": [
    "import numpy as np\n",
    "import matplotlib.pyplot as plt\n",
    "import torch\n",
    "from torchvision.transforms.functional import rotate\n",
    "from pytomography.utils import rotate_detector_z\n",
    "#device = torch.device(\"cuda\" if torch.cuda.is_available() else \"cpu\")"
   ]
  },
  {
   "cell_type": "code",
   "execution_count": 2,
   "metadata": {},
   "outputs": [
    {
     "name": "stdout",
     "output_type": "stream",
     "text": [
      "Using mps device\n"
     ]
    }
   ],
   "source": [
    "device = (\n",
    "    \"cuda\"\n",
    "    if torch.cuda.is_available()\n",
    "    else \"mps\"\n",
    "    if torch.backends.mps.is_available()\n",
    "    else \"cpu\"\n",
    ")\n",
    "print(f\"Using {device} device\")"
   ]
  },
  {
   "attachments": {},
   "cell_type": "markdown",
   "metadata": {},
   "source": [
    "# Last Time"
   ]
  },
  {
   "attachments": {},
   "cell_type": "markdown",
   "metadata": {},
   "source": [
    "Finished implementing operation $g=Hf$ and $\\hat{f} = H^T g$ for the simple case:"
   ]
  },
  {
   "attachments": {},
   "cell_type": "markdown",
   "metadata": {},
   "source": [
    "* $g = Hf$ (where $f$ is `obj` and $g$ is `image`)"
   ]
  },
  {
   "cell_type": "code",
   "execution_count": 3,
   "metadata": {},
   "outputs": [],
   "source": [
    "x = torch.linspace(-1,1,128)\n",
    "xv, yv, zv = torch.meshgrid(x,x,x, indexing='ij')\n",
    "obj = (xv**2 + 0.9*zv**2 < 0.5) * (torch.abs(yv)<0.8)\n",
    "obj = obj.to(torch.float).unsqueeze(dim=0)\n",
    "\n",
    "angles = torch.arange(0,360.,3)\n",
    "image = torch.zeros((1,len(angles),128,128))\n",
    "for i,angle in enumerate(angles):\n",
    "    object_i = rotate_detector_z(obj,angle)\n",
    "    image[:,i] = object_i.sum(axis=1)"
   ]
  },
  {
   "attachments": {},
   "cell_type": "markdown",
   "metadata": {},
   "source": [
    "* $\\hat{f} = H^T g$ (where $\\hat{f}$ is `obj_bp`)"
   ]
  },
  {
   "cell_type": "code",
   "execution_count": 4,
   "metadata": {},
   "outputs": [],
   "source": [
    "obj_bp = torch.zeros([1, 128, 128, 128])\n",
    "for i,angle in enumerate(angles):\n",
    "    bp_single_angle = torch.ones([1, 128, 128, 128]) * image[:,i].unsqueeze(dim=1)\n",
    "    bp_single_angle = rotate_detector_z(bp_single_angle, angle, negative=True)\n",
    "    obj_bp += bp_single_angle"
   ]
  },
  {
   "attachments": {},
   "cell_type": "markdown",
   "metadata": {},
   "source": [
    "# This Time"
   ]
  },
  {
   "attachments": {},
   "cell_type": "markdown",
   "metadata": {},
   "source": [
    "Let's start making $H$ more representative of true image modeling. In this tutorial, we'll consider attenuation modeling; in the next tutorial, we'll consider PSF modeling"
   ]
  },
  {
   "attachments": {},
   "cell_type": "markdown",
   "metadata": {},
   "source": [
    "<img src=\"../images/emission.png\" alt= “” width=\"400\">"
   ]
  },
  {
   "attachments": {},
   "cell_type": "markdown",
   "metadata": {},
   "source": [
    "Suppose the green is atteunating material with linear attenuation coefficient $\\mu(x,y,z)$ at the energy of the emissions. The probability of the emission reaching the detector is the probability of it not being attenuated\n",
    "\n",
    "$$p(x,y,z,\\theta) = e^{-\\int_l \\mu(\\vec{l}) \\cdot d\\vec{l}}$$\n",
    "\n",
    "where the path $l$ forms a perpendicular line from voxel $(x,y,z)$ to the detector at angle $\\theta$\n",
    "\n",
    "* Thought: If an emission at (2,3,1) was going to yield 5 counts per second under no atteunation at angle $20^{\\circ}$, and $p(2,3,1,20^{\\circ}) = 0.2$, then it would instead receive 1 count per second under attenuation.\n",
    "\n",
    "* Thought: Our $g=Hf$ above is implemented using $H = \\sum_{\\theta} P(\\theta) \\otimes \\hat{\\theta}$. Maybe we can adjust for the probabilities before projecting to get $H = \\sum_{\\theta} P(\\theta) A(\\theta) \\otimes \\hat{\\theta}$ where $A(\\theta)$ is related to $p(x,y,z,\\theta)$. In other words, $A(\\theta)$ is used to adjust the voxel value of each voxel in $f$ before forward projecting\n"
   ]
  },
  {
   "attachments": {},
   "cell_type": "markdown",
   "metadata": {},
   "source": [
    "# Evaluating $p(x,y,z,\\theta)$"
   ]
  },
  {
   "attachments": {},
   "cell_type": "markdown",
   "metadata": {},
   "source": [
    "First lets make a CT object, which will be a small cylinder"
   ]
  },
  {
   "cell_type": "code",
   "execution_count": 5,
   "metadata": {},
   "outputs": [],
   "source": [
    "x = torch.linspace(-1,1,128)\n",
    "xv, yv, zv = torch.meshgrid(x,x,x, indexing='ij')\n",
    "mu = (xv**2 + 0.9*zv**2 < 0.3) * (torch.abs(yv)<0.6)\n",
    "mu = mu.to(torch.float).unsqueeze(dim=0) * 0.1 #cm^-1"
   ]
  },
  {
   "cell_type": "code",
   "execution_count": 6,
   "metadata": {},
   "outputs": [
    {
     "data": {
      "text/plain": [
       "torch.Size([1, 128, 128, 128])"
      ]
     },
     "execution_count": 6,
     "metadata": {},
     "output_type": "execute_result"
    }
   ],
   "source": [
    "mu.shape"
   ]
  },
  {
   "attachments": {},
   "cell_type": "markdown",
   "metadata": {},
   "source": [
    "For the concept of linear attenuation coefficient, we need to specify the voxel dimension"
   ]
  },
  {
   "cell_type": "code",
   "execution_count": 7,
   "metadata": {},
   "outputs": [],
   "source": [
    "dx = 0.3 #cm"
   ]
  },
  {
   "attachments": {},
   "cell_type": "markdown",
   "metadata": {},
   "source": [
    "To compute $p(x,y,z,\\theta)$, we simply need to rotate the detector to angle $\\theta$ and then compute the integral\n",
    "\n",
    "* Example: $10^{\\circ}$"
   ]
  },
  {
   "cell_type": "code",
   "execution_count": 11,
   "metadata": {},
   "outputs": [],
   "source": [
    "angle=torch.tensor([10.0])\n",
    "mu10 = rotate_detector_z(mu, angle)\n",
    "\n",
    "def rev_cumsum(x: torch.Tensor):\n",
    "    return torch.cumsum(x.flip(dims=(1,)), dim=1).flip(dims=(1,)) - x/2\n",
    "\n",
    "p = torch.exp(-rev_cumsum(mu10 * dx))"
   ]
  },
  {
   "cell_type": "code",
   "execution_count": 14,
   "metadata": {},
   "outputs": [
    {
     "data": {
      "text/plain": [
       "torch.Size([1, 128, 128, 128])"
      ]
     },
     "execution_count": 14,
     "metadata": {},
     "output_type": "execute_result"
    }
   ],
   "source": [
    "(mu10*dx).shape"
   ]
  },
  {
   "cell_type": "code",
   "execution_count": 15,
   "metadata": {},
   "outputs": [
    {
     "data": {
      "text/plain": [
       "torch.Size([1, 128, 128, 128])"
      ]
     },
     "execution_count": 15,
     "metadata": {},
     "output_type": "execute_result"
    }
   ],
   "source": [
    "p.shape"
   ]
  },
  {
   "attachments": {},
   "cell_type": "markdown",
   "metadata": {},
   "source": [
    "The reverse cumulative sum is the opposite of the cumulative sum in that it starts at the RHS of the array as opposed to the LHS (required because the detector is at the RHS of the array).\n",
    "\n",
    "Then we simply multiply the object by this tensor $p$ and project to get our attenuation-corrected projection"
   ]
  },
  {
   "cell_type": "code",
   "execution_count": 17,
   "metadata": {},
   "outputs": [],
   "source": [
    "object_10 = rotate_detector_z(obj,angle) * p\n",
    "projection_10 = object_10.sum(axis=1)"
   ]
  },
  {
   "cell_type": "code",
   "execution_count": 18,
   "metadata": {},
   "outputs": [
    {
     "data": {
      "text/plain": [
       "<matplotlib.collections.QuadMesh at 0x1667f85d0>"
      ]
     },
     "execution_count": 18,
     "metadata": {},
     "output_type": "execute_result"
    },
    {
     "data": {
      "image/png": "[encoded data removed]",
      "text/plain": [
       "<Figure size 640x480 with 1 Axes>"
      ]
     },
     "metadata": {},
     "output_type": "display_data"
    }
   ],
   "source": [
    "plt.pcolormesh(projection_10[0].T)"
   ]
  },
  {
   "attachments": {},
   "cell_type": "markdown",
   "metadata": {},
   "source": [
    "Notice how the points in the center are now darker because they're attenuated. To get the full image (collection of projections), we modify our $g=Hf$ loop above"
   ]
  },
  {
   "cell_type": "code",
   "execution_count": 20,
   "metadata": {},
   "outputs": [],
   "source": [
    "x = torch.linspace(-1,1,128)\n",
    "# the object\n",
    "xv, yv, zv = torch.meshgrid(x,x,x, indexing='ij')\n",
    "obj = (xv**2 + 0.9*zv**2 < 0.5) * (torch.abs(yv)<0.8)\n",
    "obj = obj.to(torch.float).unsqueeze(dim=0)\n",
    "\n",
    "# The physical object (e.g. radiotracer here)\n",
    "mu = (xv**2 + 0.9*zv**2 < 0.3) * (torch.abs(yv)<0.6)\n",
    "mu = mu.to(torch.float).unsqueeze(dim=0) * 0.1 #cm^-1\n",
    "\n",
    "angles = torch.arange(0,360.,3)\n",
    "image = torch.zeros((1,len(angles),128,128))\n",
    "for i,angle in enumerate(angles):\n",
    "    mu_i = rotate_detector_z(mu, angle)\n",
    "    p_i = torch.exp(-rev_cumsum(mu_i * dx))\n",
    "    object_i = rotate_detector_z(obj,angle)\n",
    "    image[:,i] = (object_i*p_i).sum(axis=1)"
   ]
  },
  {
   "attachments": {},
   "cell_type": "markdown",
   "metadata": {},
   "source": [
    "Now we can plot multiple projections:"
   ]
  },
  {
   "cell_type": "code",
   "execution_count": 21,
   "metadata": {},
   "outputs": [
    {
     "data": {
      "image/png": "[encoded data removed]",
      "text/plain": [
       "<Figure size 1000x200 with 7 Axes>"
      ]
     },
     "metadata": {},
     "output_type": "display_data"
    }
   ],
   "source": [
    "iis = [0,10,20,30,40,50,60]\n",
    "fig, ax = plt.subplots(1,7,figsize=(10,2))\n",
    "[a.pcolormesh(image[0,i].T) for (a, i) in zip(ax, iis)]\n",
    "plt.show()"
   ]
  },
  {
   "attachments": {},
   "cell_type": "markdown",
   "metadata": {},
   "source": [
    "Now we also need to implement it in back projection. Since \n",
    "\n",
    "$$H = \\sum_{\\theta} P(\\theta) A(\\theta) \\otimes \\hat{\\theta}$$\n",
    "\n",
    "it follows that \n",
    "\n",
    "$$H^T = \\sum_{\\theta} A^T(\\theta)P^T(\\theta)  \\otimes \\hat{\\theta}^T$$\n",
    "\n",
    "$A$ is effectively a diagonal matrix, so it doesn't matter. In this case, the important thing is that we apply $P^T$ first to go back to object space, then attenuate correct after."
   ]
  },
  {
   "cell_type": "code",
   "execution_count": 22,
   "metadata": {},
   "outputs": [],
   "source": [
    "obj_bp = torch.zeros([1, 128, 128, 128])\n",
    "for i,angle in enumerate(angles):\n",
    "    obj_bp_i = torch.ones([1, 128, 128, 128]) * image[:,i].unsqueeze(dim=1)\n",
    "    mu_i = rotate_detector_z(mu, angle)\n",
    "    p_i = torch.exp(-rev_cumsum(mu_i * dx))\n",
    "    obj_bp_i = obj_bp_i * p_i\n",
    "    obj_bp_i = rotate_detector_z(obj_bp_i, angle, negative=True)\n",
    "    obj_bp += obj_bp_i"
   ]
  },
  {
   "cell_type": "code",
   "execution_count": 29,
   "metadata": {},
   "outputs": [],
   "source": [
    "import time"
   ]
  },
  {
   "cell_type": "code",
   "execution_count": 52,
   "metadata": {},
   "outputs": [],
   "source": [
    "def bpd(mux, i=0, angle=10.0):\n",
    "    print(f\"pixel = {i}, angle ={angle}\")\n",
    "    \n",
    "    obj_bp = torch.zeros([1, 128, 128, 128])\n",
    "    angle = torch.tensor([angle]).to(device)\n",
    "    tones = torch.ones([1, 128, 128, 128]).to(device)\n",
    "    timage = image[:,i].unsqueeze(dim=1).to(device)\n",
    "    mu = mux.to(device)\n",
    "    \n",
    "    \n",
    "    #obj_bp_i = torch.ones([1, 128, 128, 128]) * image[:,i].unsqueeze(dim=1)\n",
    "    obj_bp_i = tones * timage    \n",
    "    mu_i = rotate_detector_z(mu, angle)    \n",
    "    p_i = torch.exp(-rev_cumsum(mu_i * 0.3)) #0.3 = dx\n",
    "    obj_bp_i = obj_bp_i * p_i    \n",
    "    obj_bp_i = rotate_detector_z(obj_bp_i, angle, negative=True)\n",
    "    obj_bp += obj_bp_i.to(\"cpu\")\n",
    "    return obj_bp\n",
    "    \n",
    " "
   ]
  },
  {
   "cell_type": "code",
   "execution_count": 56,
   "metadata": {},
   "outputs": [
    {
     "name": "stdout",
     "output_type": "stream",
     "text": [
      "pixel = 0, angle =10.0\n",
      " time:-> 0.05174708366394043\n"
     ]
    }
   ],
   "source": [
    "tstart = time.time()\n",
    "obj_bp = bpd(mu, i=0, angle=10.0)\n",
    "tend = time.time() - tstart\n",
    "print(f\" time:-> {tend}\")"
   ]
  },
  {
   "cell_type": "code",
   "execution_count": 57,
   "metadata": {},
   "outputs": [],
   "source": [
    "def bp(mu, i=0, angle=10.0):\n",
    "    print(f\"pixel = {i}, angle ={angle}\")\n",
    "    \n",
    "    obj_bp = torch.zeros([1, 128, 128, 128])\n",
    "    angle = torch.tensor([angle])\n",
    "    tones = torch.ones([1, 128, 128, 128])\n",
    "    timage = image[:,i].unsqueeze(dim=1)\n",
    "    \n",
    "    #obj_bp_i = torch.ones([1, 128, 128, 128]) * image[:,i].unsqueeze(dim=1)\n",
    "    obj_bp_i = tones * timage    \n",
    "    mu_i = rotate_detector_z(mu, angle)    \n",
    "    p_i = torch.exp(-rev_cumsum(mu_i * 0.3)) #0.3 = dx\n",
    "    obj_bp_i = obj_bp_i * p_i    \n",
    "    obj_bp_i = rotate_detector_z(obj_bp_i, angle, negative=True)\n",
    "    obj_bp += obj_bp_i\n",
    "    return obj_bp"
   ]
  },
  {
   "cell_type": "code",
   "execution_count": 60,
   "metadata": {},
   "outputs": [
    {
     "name": "stdout",
     "output_type": "stream",
     "text": [
      "pixel = 0, angle =10.0\n",
      " time:-> 0.05686497688293457\n"
     ]
    }
   ],
   "source": [
    "tstart = time.time()\n",
    "obj_bp = bpd(mu, i=0, angle=10.0)\n",
    "tend = time.time() - tstart\n",
    "print(f\" time:-> {tend}\")"
   ]
  },
  {
   "cell_type": "code",
   "execution_count": null,
   "metadata": {},
   "outputs": [],
   "source": []
  }
 ],
 "metadata": {
  "kernelspec": {
   "display_name": "Python 3 (ipykernel)",
   "language": "python",
   "name": "python3"
  },
  "language_info": {
   "codemirror_mode": {
    "name": "ipython",
    "version": 3
   },
   "file_extension": ".py",
   "mimetype": "text/x-python",
   "name": "python",
   "nbconvert_exporter": "python",
   "pygments_lexer": "ipython3",
   "version": "3.11.6"
  }
 },
 "nbformat": 4,
 "nbformat_minor": 4
}
